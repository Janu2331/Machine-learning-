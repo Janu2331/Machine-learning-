{
  "nbformat": 4,
  "nbformat_minor": 0,
  "metadata": {
    "colab": {
      "provenance": [],
      "include_colab_link": true
    },
    "kernelspec": {
      "name": "python3",
      "display_name": "Python 3"
    },
    "language_info": {
      "name": "python"
    }
  },
  "cells": [
    {
      "cell_type": "markdown",
      "metadata": {
        "id": "view-in-github",
        "colab_type": "text"
      },
      "source": [
        "<a href=\"https://colab.research.google.com/github/Janu2331/Machine-learning-/blob/main/Introduction_to_numpy.ipynb\" target=\"_parent\"><img src=\"https://colab.research.google.com/assets/colab-badge.svg\" alt=\"Open In Colab\"/></a>"
      ]
    },
    {
      "cell_type": "code",
      "execution_count": 1,
      "metadata": {
        "id": "_1IV_uOk3IXM"
      },
      "outputs": [],
      "source": [
        "import numpy as np"
      ]
    },
    {
      "cell_type": "code",
      "source": [
        "#Recap\n",
        "arr = np.array([[1,2,3],[4,5,6]])"
      ],
      "metadata": {
        "id": "61E7cfQq3QIz"
      },
      "execution_count": 2,
      "outputs": []
    },
    {
      "cell_type": "code",
      "source": [
        "type(arr)"
      ],
      "metadata": {
        "colab": {
          "base_uri": "https://localhost:8080/"
        },
        "id": "fYlmTC337FXU",
        "outputId": "dcab074e-9d03-42de-a7f3-ff59e8e8e79e"
      },
      "execution_count": 3,
      "outputs": [
        {
          "output_type": "execute_result",
          "data": {
            "text/plain": [
              "numpy.ndarray"
            ]
          },
          "metadata": {},
          "execution_count": 3
        }
      ]
    },
    {
      "cell_type": "code",
      "source": [
        "arr1=np.random.randint(1,2,(3,1))"
      ],
      "metadata": {
        "id": "i3N1pg6I7JUm"
      },
      "execution_count": 4,
      "outputs": []
    },
    {
      "cell_type": "code",
      "source": [
        "arr.shape"
      ],
      "metadata": {
        "colab": {
          "base_uri": "https://localhost:8080/"
        },
        "id": "Hhnz3u9O7hqK",
        "outputId": "abff7073-2a89-4840-afa1-4493ce2298ae"
      },
      "execution_count": 5,
      "outputs": [
        {
          "output_type": "execute_result",
          "data": {
            "text/plain": [
              "(2, 3)"
            ]
          },
          "metadata": {},
          "execution_count": 5
        }
      ]
    },
    {
      "cell_type": "code",
      "source": [
        "arr1.shape"
      ],
      "metadata": {
        "colab": {
          "base_uri": "https://localhost:8080/"
        },
        "id": "GiWtFoRa7lna",
        "outputId": "14d05ae7-9008-4a93-af68-b01fcc6b7fc4"
      },
      "execution_count": 6,
      "outputs": [
        {
          "output_type": "execute_result",
          "data": {
            "text/plain": [
              "(3, 1)"
            ]
          },
          "metadata": {},
          "execution_count": 6
        }
      ]
    },
    {
      "cell_type": "code",
      "source": [
        "result=np.dot(arr,arr1)"
      ],
      "metadata": {
        "id": "VxZMzU3_7qPT"
      },
      "execution_count": 7,
      "outputs": []
    },
    {
      "cell_type": "code",
      "source": [
        "print(result)"
      ],
      "metadata": {
        "colab": {
          "base_uri": "https://localhost:8080/"
        },
        "id": "qXRDkscu71NE",
        "outputId": "926b2433-2c8c-4e21-bea8-de2a88ccc13c"
      },
      "execution_count": 8,
      "outputs": [
        {
          "output_type": "stream",
          "name": "stdout",
          "text": [
            "[[ 6]\n",
            " [15]]\n"
          ]
        }
      ]
    },
    {
      "cell_type": "code",
      "source": [
        "r1=np.random.randint(10,20,(3,3))\n",
        "print(r1)"
      ],
      "metadata": {
        "colab": {
          "base_uri": "https://localhost:8080/"
        },
        "id": "wjBVm6Zt74yT",
        "outputId": "f3d4e434-a88c-4313-ec93-9e35f0c54deb"
      },
      "execution_count": 9,
      "outputs": [
        {
          "output_type": "stream",
          "name": "stdout",
          "text": [
            "[[18 17 10]\n",
            " [14 12 16]\n",
            " [19 15 16]]\n"
          ]
        }
      ]
    },
    {
      "cell_type": "code",
      "source": [
        "r2=np.eye(3)\n",
        "print(r2)"
      ],
      "metadata": {
        "colab": {
          "base_uri": "https://localhost:8080/"
        },
        "id": "4kb4V-T_8WIp",
        "outputId": "887a7992-f944-4ef7-ec2e-74c23d58a574"
      },
      "execution_count": 10,
      "outputs": [
        {
          "output_type": "stream",
          "name": "stdout",
          "text": [
            "[[1. 0. 0.]\n",
            " [0. 1. 0.]\n",
            " [0. 0. 1.]]\n"
          ]
        }
      ]
    },
    {
      "cell_type": "code",
      "source": [
        "# r1 = I\n",
        "result2=np.dot(r1,r2)"
      ],
      "metadata": {
        "id": "i6TiWy518ysO"
      },
      "execution_count": 11,
      "outputs": []
    },
    {
      "cell_type": "code",
      "source": [
        "print(result2)"
      ],
      "metadata": {
        "colab": {
          "base_uri": "https://localhost:8080/"
        },
        "id": "AU8DGy2R89ov",
        "outputId": "a181e77f-875d-4867-cf94-3d693d1a4cbb"
      },
      "execution_count": 12,
      "outputs": [
        {
          "output_type": "stream",
          "name": "stdout",
          "text": [
            "[[18. 17. 10.]\n",
            " [14. 12. 16.]\n",
            " [19. 15. 16.]]\n"
          ]
        }
      ]
    },
    {
      "cell_type": "code",
      "source": [
        "t1=np.random.randint(3,6,(3,3))\n",
        "t2=np.random.randint(3,6,(3,3))"
      ],
      "metadata": {
        "id": "7hHnnK449BIi"
      },
      "execution_count": 13,
      "outputs": []
    },
    {
      "cell_type": "code",
      "source": [
        "print(t1)\n",
        "print(t2)"
      ],
      "metadata": {
        "colab": {
          "base_uri": "https://localhost:8080/"
        },
        "id": "5DcfflaqAKez",
        "outputId": "f8790b4f-3d53-4dfe-df77-f37baa0cfcf0"
      },
      "execution_count": null,
      "outputs": [
        {
          "output_type": "stream",
          "name": "stdout",
          "text": [
            "[[4 3 4]\n",
            " [4 5 3]\n",
            " [4 4 3]]\n",
            "[[5 4 4]\n",
            " [5 3 3]\n",
            " [4 4 4]]\n"
          ]
        }
      ]
    },
    {
      "cell_type": "code",
      "source": [
        "t3=t1+t2"
      ],
      "metadata": {
        "id": "C8HozrIiAMfZ"
      },
      "execution_count": 14,
      "outputs": []
    },
    {
      "cell_type": "code",
      "source": [
        "print(t3)"
      ],
      "metadata": {
        "colab": {
          "base_uri": "https://localhost:8080/"
        },
        "id": "Zg1bZViOAZKV",
        "outputId": "b7b10bc5-feae-4437-c46b-50f28228143d"
      },
      "execution_count": 15,
      "outputs": [
        {
          "output_type": "stream",
          "name": "stdout",
          "text": [
            "[[6 9 7]\n",
            " [9 8 9]\n",
            " [6 7 7]]\n"
          ]
        }
      ]
    },
    {
      "cell_type": "code",
      "source": [
        "#matrix multiplication\n",
        "result=np.dot(arr,arr1)"
      ],
      "metadata": {
        "id": "TZnoT31mAchv"
      },
      "execution_count": 16,
      "outputs": []
    },
    {
      "cell_type": "code",
      "source": [
        "# statistical operations\n",
        "mean=t3.mean()\n",
        "mode=t3.max()\n",
        "median=np.median(t3)\n",
        "std=np.std(t3)\n",
        "var=np.var(t3)"
      ],
      "metadata": {
        "id": "sq35_UGnA0GN"
      },
      "execution_count": 17,
      "outputs": []
    },
    {
      "cell_type": "code",
      "source": [
        "print(mean)"
      ],
      "metadata": {
        "colab": {
          "base_uri": "https://localhost:8080/"
        },
        "id": "WCjSpEc6BShw",
        "outputId": "9dded22d-dc33-49f0-aba1-2c544ef761e5"
      },
      "execution_count": 18,
      "outputs": [
        {
          "output_type": "stream",
          "name": "stdout",
          "text": [
            "7.555555555555555\n"
          ]
        }
      ]
    },
    {
      "cell_type": "code",
      "source": [
        "print(mode)"
      ],
      "metadata": {
        "colab": {
          "base_uri": "https://localhost:8080/"
        },
        "id": "4mqjSDSuB1IE",
        "outputId": "4bb931ab-883d-49c5-9deb-98ca74bcb93e"
      },
      "execution_count": 19,
      "outputs": [
        {
          "output_type": "stream",
          "name": "stdout",
          "text": [
            "9\n"
          ]
        }
      ]
    },
    {
      "cell_type": "code",
      "source": [
        "print(median)"
      ],
      "metadata": {
        "colab": {
          "base_uri": "https://localhost:8080/"
        },
        "id": "lcwEw2KFB4Fs",
        "outputId": "6b84955e-6a4d-4023-9967-fae2d9abe622"
      },
      "execution_count": 20,
      "outputs": [
        {
          "output_type": "stream",
          "name": "stdout",
          "text": [
            "7.0\n"
          ]
        }
      ]
    },
    {
      "cell_type": "code",
      "source": [
        "print(std)"
      ],
      "metadata": {
        "colab": {
          "base_uri": "https://localhost:8080/"
        },
        "id": "0COwCYzkB79T",
        "outputId": "34b4c6bb-509e-49df-a86e-714bce926fe6"
      },
      "execution_count": 21,
      "outputs": [
        {
          "output_type": "stream",
          "name": "stdout",
          "text": [
            "1.1653431646335017\n"
          ]
        }
      ]
    },
    {
      "cell_type": "code",
      "source": [
        "print(var)"
      ],
      "metadata": {
        "colab": {
          "base_uri": "https://localhost:8080/"
        },
        "id": "64ZhCaEBCP00",
        "outputId": "a7ee412e-cd7b-4a71-92e8-c21398e7e618"
      },
      "execution_count": 22,
      "outputs": [
        {
          "output_type": "stream",
          "name": "stdout",
          "text": [
            "1.3580246913580245\n"
          ]
        }
      ]
    },
    {
      "cell_type": "code",
      "source": [
        "std*std"
      ],
      "metadata": {
        "colab": {
          "base_uri": "https://localhost:8080/"
        },
        "id": "7QAQCzWOCSDp",
        "outputId": "b5172adc-eef2-438b-ba51-2f5eaaf40975"
      },
      "execution_count": 23,
      "outputs": [
        {
          "output_type": "execute_result",
          "data": {
            "text/plain": [
              "1.3580246913580247"
            ]
          },
          "metadata": {},
          "execution_count": 23
        }
      ]
    },
    {
      "cell_type": "code",
      "source": [
        "#Trignometry functions\n",
        "# sin(x)\n",
        "#cos(x)\n",
        "#Tan(x)-sin(x)/cos(x)\n",
        "#cosec-1/sin(x)\n",
        "#sec-1/cos(x)\n",
        "#cot-1/tan(x)\n",
        "angles = np.array([0,15,30,45,60,75,90])\n",
        "#sin(array)\n",
        "result=np.sin(np.radians(angles))\n",
        "result1=np.cos(np.radians(angles))\n",
        "result2=np.tan(np.radians(angles))"
      ],
      "metadata": {
        "id": "cujeEz5qDGCt"
      },
      "execution_count": 24,
      "outputs": []
    },
    {
      "cell_type": "code",
      "source": [
        "print(result)\n",
        "print(result1)\n",
        "print(result2)"
      ],
      "metadata": {
        "colab": {
          "base_uri": "https://localhost:8080/"
        },
        "id": "yD6o5VsFETTg",
        "outputId": "c5a27439-0d66-4ae8-eb78-0a0c40eab2fb"
      },
      "execution_count": 25,
      "outputs": [
        {
          "output_type": "stream",
          "name": "stdout",
          "text": [
            "[0.         0.25881905 0.5        0.70710678 0.8660254  0.96592583\n",
            " 1.        ]\n",
            "[1.00000000e+00 9.65925826e-01 8.66025404e-01 7.07106781e-01\n",
            " 5.00000000e-01 2.58819045e-01 6.12323400e-17]\n",
            "[0.00000000e+00 2.67949192e-01 5.77350269e-01 1.00000000e+00\n",
            " 1.73205081e+00 3.73205081e+00 1.63312394e+16]\n"
          ]
        }
      ]
    },
    {
      "cell_type": "code",
      "source": [
        "arr=np.array([1,2,3,4,5,6])\n",
        "#Reshape the array\n",
        "reshapedarr=arr.reshape(3,2)\n",
        "print(reshapedarr)\n",
        "flattendarr=arr.flatten()\n",
        "print(flattendarr)"
      ],
      "metadata": {
        "colab": {
          "base_uri": "https://localhost:8080/"
        },
        "id": "NBTUFDqyEcKH",
        "outputId": "0f418a99-9aa3-471e-cdd4-1e9c979516ba"
      },
      "execution_count": 26,
      "outputs": [
        {
          "output_type": "stream",
          "name": "stdout",
          "text": [
            "[[1 2]\n",
            " [3 4]\n",
            " [5 6]]\n",
            "[1 2 3 4 5 6]\n"
          ]
        }
      ]
    },
    {
      "cell_type": "code",
      "source": [
        "\n",
        "#Stacking the data\n",
        "arr1=np.array([1,2,3,4])\n",
        "arr2=np.array([10,20,30,40])\n",
        "\n",
        "#vertical stacking\n",
        "arr3=np.vstack((arr1,arr2))\n",
        "print(f\"The shape of arr3 is {arr3.shape}\")\n",
        "\n",
        "#Horizantal stacking\n",
        "arr4=np.hstack((arr1,arr2))\n",
        "print(f\"The shape of the arr4 is {arr4.shape}\")\n",
        "print(arr4)"
      ],
      "metadata": {
        "colab": {
          "base_uri": "https://localhost:8080/"
        },
        "id": "_o_xiEJ3E6d_",
        "outputId": "5f999515-ad35-41b5-f529-3abfd4c09d33"
      },
      "execution_count": 27,
      "outputs": [
        {
          "output_type": "stream",
          "name": "stdout",
          "text": [
            "The shape of arr3 is (2, 4)\n",
            "The shape of the arr4 is (8,)\n",
            "[ 1  2  3  4 10 20 30 40]\n"
          ]
        }
      ]
    },
    {
      "cell_type": "code",
      "source": [
        "#Flitering\n",
        "arr=np.array([10,20,30,40,50,60,70,80,90])\n",
        "farr=arr[arr>40]\n",
        "print(farr)"
      ],
      "metadata": {
        "colab": {
          "base_uri": "https://localhost:8080/"
        },
        "id": "AxCo0um6H5H7",
        "outputId": "724a0c3b-7e7d-4c09-e98d-0c81754fb031"
      },
      "execution_count": 28,
      "outputs": [
        {
          "output_type": "stream",
          "name": "stdout",
          "text": [
            "[50 60 70 80 90]\n"
          ]
        }
      ]
    },
    {
      "cell_type": "code",
      "source": [],
      "metadata": {
        "id": "hteDDBvQJOM1"
      },
      "execution_count": null,
      "outputs": []
    },
    {
      "cell_type": "code",
      "source": [],
      "metadata": {
        "id": "pbhnsPwsJQiH"
      },
      "execution_count": null,
      "outputs": []
    },
    {
      "cell_type": "code",
      "source": [],
      "metadata": {
        "id": "UGTEOrKhJRH7"
      },
      "execution_count": null,
      "outputs": []
    },
    {
      "cell_type": "code",
      "source": [],
      "metadata": {
        "id": "OwYTJLayJOZW"
      },
      "execution_count": null,
      "outputs": []
    }
  ]
}