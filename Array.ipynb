{
  "nbformat": 4,
  "nbformat_minor": 0,
  "metadata": {
    "colab": {
      "provenance": [],
      "authorship_tag": "ABX9TyP1n9nBKmYiKn23JkCcHIf6",
      "include_colab_link": true
    },
    "kernelspec": {
      "name": "python3",
      "display_name": "Python 3"
    },
    "language_info": {
      "name": "python"
    }
  },
  "cells": [
    {
      "cell_type": "markdown",
      "metadata": {
        "id": "view-in-github",
        "colab_type": "text"
      },
      "source": [
        "<a href=\"https://colab.research.google.com/github/Janu2331/Machine-learning-/blob/main/Array.ipynb\" target=\"_parent\"><img src=\"https://colab.research.google.com/assets/colab-badge.svg\" alt=\"Open In Colab\"/></a>"
      ]
    },
    {
      "cell_type": "code",
      "execution_count": null,
      "metadata": {
        "id": "0Qer4IKxvLga"
      },
      "outputs": [],
      "source": [
        "#Numpy- Numeric Python\n",
        "# Most powerful package - Library\n",
        "\n",
        "#Numpy- Dimensions\n",
        "# A-One Dimensionaal Array\n",
        "# [A,B] || [ A\n",
        "             #B ]-Two Dimensional Array- Row ||column\n",
        "# Three Dimensional\n",
        "# Array-Storing,Manipulating,Similar Data Type\n",
        "# Faster than any mathematical functions\n",
        "# Convenient compared to other packages\n",
        "# Memory Efficiency\n",
        "# Support Multi Dimensional Arrays\n",
        "#speed(Numpy operations)>speed(Lists operations)\n",
        "#size(Numpy operations)<size(Lists operations)\n",
        "# memory optimizatin(Numpy)>memory optimization(List operations)"
      ]
    },
    {
      "cell_type": "code",
      "source": [
        "# Install numpy - pip3 install numpy // pip install numpy"
      ],
      "metadata": {
        "id": "L0aqMxTxvMju"
      },
      "execution_count": null,
      "outputs": []
    },
    {
      "cell_type": "code",
      "source": [
        "import numpy as np"
      ],
      "metadata": {
        "id": "EoY-Q-3-vMmN"
      },
      "execution_count": null,
      "outputs": []
    },
    {
      "cell_type": "code",
      "source": [
        "# create a numpy array\n",
        "#1D array\n",
        "arr1D = np.array([1,2,3,4,5])\n",
        "print(arr1D)"
      ],
      "metadata": {
        "colab": {
          "base_uri": "https://localhost:8080/"
        },
        "id": "mUg5VAonvMpU",
        "outputId": "e977b4ae-6e0d-47c3-a6df-3a103d170974"
      },
      "execution_count": null,
      "outputs": [
        {
          "output_type": "stream",
          "name": "stdout",
          "text": [
            "[1 2 3 4 5]\n"
          ]
        }
      ]
    },
    {
      "cell_type": "code",
      "source": [
        "# creating 2D array - Matrix\n",
        "arr2D = np.array([\n",
        "    [0,0,0],[0,0,0]\n",
        "])\n",
        "print(arr2D)"
      ],
      "metadata": {
        "colab": {
          "base_uri": "https://localhost:8080/"
        },
        "id": "hz7jODdxvMsU",
        "outputId": "6f61ec47-82d6-4228-ba39-d15fb13d6094"
      },
      "execution_count": null,
      "outputs": [
        {
          "output_type": "stream",
          "name": "stdout",
          "text": [
            "[[0 0 0]\n",
            " [0 0 0]]\n"
          ]
        }
      ]
    },
    {
      "cell_type": "code",
      "source": [
        "allZeros=np.zeros((2,3))\n",
        "print(allZeros)"
      ],
      "metadata": {
        "colab": {
          "base_uri": "https://localhost:8080/"
        },
        "id": "tiEIzCOvvNYb",
        "outputId": "9e5d8e0c-1282-4269-c26d-d41f97dbde4f"
      },
      "execution_count": null,
      "outputs": [
        {
          "output_type": "stream",
          "name": "stdout",
          "text": [
            "[[0. 0. 0.]\n",
            " [0. 0. 0.]]\n"
          ]
        }
      ]
    },
    {
      "cell_type": "code",
      "source": [
        "allOnes=np.ones((2,3))\n",
        "print(allOnes)"
      ],
      "metadata": {
        "colab": {
          "base_uri": "https://localhost:8080/"
        },
        "id": "cwylX-pRvMzR",
        "outputId": "e6ba1b0b-689b-4028-8964-e9c5960f1e3e"
      },
      "execution_count": null,
      "outputs": [
        {
          "output_type": "stream",
          "name": "stdout",
          "text": [
            "[[1. 1. 1.]\n",
            " [1. 1. 1.]]\n"
          ]
        }
      ]
    },
    {
      "cell_type": "code",
      "source": [
        "allConstant=np.full((2,3),6)\n",
        "print(allConstant)"
      ],
      "metadata": {
        "colab": {
          "base_uri": "https://localhost:8080/"
        },
        "id": "tfFM46sMvM2L",
        "outputId": "d762bb16-a56e-448b-9c07-14be95fa4fce"
      },
      "execution_count": null,
      "outputs": [
        {
          "output_type": "stream",
          "name": "stdout",
          "text": [
            "[[6 6 6]\n",
            " [6 6 6]]\n"
          ]
        }
      ]
    },
    {
      "cell_type": "code",
      "source": [
        "\n",
        "# Create an identity matrix - I - square Matrix\n",
        "identity = np.eye(4)\n",
        "print(identity)\n",
        "\n",
        "\n",
        "# Identity Matrix - Aii = 1 && Aij = 0\n",
        "# For all a Belongs to R MxN\n",
        "#Aij -"
      ],
      "metadata": {
        "colab": {
          "base_uri": "https://localhost:8080/"
        },
        "id": "TFVuOmzEvM5h",
        "outputId": "da07d7a8-9bfb-402d-9d00-b1b6f42af4a3"
      },
      "execution_count": null,
      "outputs": [
        {
          "output_type": "stream",
          "name": "stdout",
          "text": [
            "[[1. 0. 0. 0.]\n",
            " [0. 1. 0. 0.]\n",
            " [0. 0. 1. 0.]\n",
            " [0. 0. 0. 1.]]\n"
          ]
        }
      ]
    },
    {
      "cell_type": "code",
      "source": [
        "# creating random matrices\n",
        "\n",
        "\n",
        "# between 0 and 1\n",
        "rand1 = np.random.rand(3,3)\n",
        "print(rand1)\n",
        "\n",
        "# between a and b\n",
        "rand2 = np.random.randint(10,20,(3,3))\n",
        "print(rand2)"
      ],
      "metadata": {
        "colab": {
          "base_uri": "https://localhost:8080/"
        },
        "id": "9wl2b3jh07Sp",
        "outputId": "0d6e8192-9836-4bcb-9d9c-c62e23f81c55"
      },
      "execution_count": null,
      "outputs": [
        {
          "output_type": "stream",
          "name": "stdout",
          "text": [
            "[[0.81830377 0.34842037 0.38599123]\n",
            " [0.32224806 0.93954419 0.27037779]\n",
            " [0.97223162 0.34695251 0.51192815]]\n",
            "[[13 15 19]\n",
            " [12 16 17]\n",
            " [11 15 16]]\n"
          ]
        }
      ]
    },
    {
      "cell_type": "code",
      "source": [
        "# Array properties\n",
        "arr=np.array(([1,2,3,4],[2,3,4,5]))\n",
        "print(arr)\n",
        "# Shape of the array\n",
        "print(f'The shape of the array is {arr.shape}')\n",
        "# Size of array\n",
        "print(f'The size of the array is {arr.size}')\n",
        "#Datatype of array\n",
        "print(f'The Data type of the array is {arr.dtype}')\n",
        "#Dimensions of array\n",
        "print(f'The Dimension of the array is {arr.ndim}')"
      ],
      "metadata": {
        "colab": {
          "base_uri": "https://localhost:8080/"
        },
        "id": "qFGF5kZ307Yy",
        "outputId": "d454fecd-d18e-4ef1-f503-611ff69d749f"
      },
      "execution_count": null,
      "outputs": [
        {
          "output_type": "stream",
          "name": "stdout",
          "text": [
            "[[1 2 3 4]\n",
            " [2 3 4 5]]\n",
            "The shape of the array is (2, 4)\n",
            "The size of the array is 8\n",
            "The Data type of the array is int64\n",
            "The Dimension of the array is 2\n"
          ]
        }
      ]
    },
    {
      "cell_type": "code",
      "source": [
        "# Indexing and slicing\n",
        "\n",
        "\n",
        "#Access the elements in 1D Array\n",
        "arr = np.array([1,2,3,4,])\n",
        "print(arr)\n",
        "print(arr[3])\n",
        "\n",
        "# Slicing the elements\n",
        "print(arr[0:3])\n",
        "\n",
        "# Access the element in 2D Array\n",
        "arr2 = np.array([[1,2,3],[2,3,4]])\n",
        "print(arr)\n",
        "print(arr2[1,1])\n",
        "print(arr2[0,:]) # First row with all the columns\n",
        "print(arr2[:,0]) # First column with all the rows"
      ],
      "metadata": {
        "colab": {
          "base_uri": "https://localhost:8080/"
        },
        "id": "R6cNoeH-07bd",
        "outputId": "eaffa8d4-9c1f-4f57-b1b4-435a8424aa06"
      },
      "execution_count": null,
      "outputs": [
        {
          "output_type": "stream",
          "name": "stdout",
          "text": [
            "[1 2 3 4]\n",
            "4\n",
            "[1 2 3]\n",
            "[1 2 3 4]\n",
            "3\n",
            "[1 2 3]\n",
            "[1 2]\n"
          ]
        }
      ]
    },
    {
      "cell_type": "code",
      "source": [
        "# l1 = []\n",
        "# [l1.append(_) for _ in range(10)]\n",
        "l1 = np.arange(10,-10,-3)\n",
        "\n",
        "print(l1)"
      ],
      "metadata": {
        "colab": {
          "base_uri": "https://localhost:8080/"
        },
        "id": "4ws0ZD8S_N-u",
        "outputId": "5aa51684-e6a6-4b3f-bdad-144a316bd654"
      },
      "execution_count": null,
      "outputs": [
        {
          "output_type": "stream",
          "name": "stdout",
          "text": [
            "[10  7  4  1 -2 -5 -8]\n"
          ]
        }
      ]
    },
    {
      "cell_type": "code",
      "source": [
        "# Mathematcial operations\n",
        "a=np.array([1,2,3])\n",
        "b=np.array([3,4,5])\n",
        "print(f'The sum of a and b is {a+b}')\n",
        "print(f'The diff of a and b is {a-b}')\n",
        "print(f'The product of a and b is {a*b}')\n",
        "print(f'The division of a and b is {a/b}')"
      ],
      "metadata": {
        "colab": {
          "base_uri": "https://localhost:8080/"
        },
        "id": "-NRMGaWk7Sbc",
        "outputId": "75c3b030-e483-48f5-fbbe-8823fed9e3e4"
      },
      "execution_count": null,
      "outputs": [
        {
          "output_type": "stream",
          "name": "stdout",
          "text": [
            "The sum of a and b is [4 6 8]\n",
            "The diff of a and b is [-2 -2 -2]\n",
            "The product of a and b is [ 3  8 15]\n",
            "The division of a and b is [0.33333333 0.5        0.6       ]\n"
          ]
        }
      ]
    },
    {
      "cell_type": "code",
      "source": [
        "# Matrix multiplication\n",
        "b1=np.array([[1,2,3],[2,3,4]])\n",
        "b2=np.array([[5,6],[7,8],[1,3]])\n",
        "\n",
        "# Dot product  ---- Product= AB -- A m x n -- B n x p\n",
        "c = np.dot(b1,b2)\n",
        "print(b1)"
      ],
      "metadata": {
        "colab": {
          "base_uri": "https://localhost:8080/"
        },
        "id": "WjnhVUdfC4kY",
        "outputId": "48cd800e-5b0d-47c6-8b15-0d569f83ebbf"
      },
      "execution_count": null,
      "outputs": [
        {
          "output_type": "stream",
          "name": "stdout",
          "text": [
            "[[1 2 3]\n",
            " [2 3 4]]\n"
          ]
        }
      ]
    },
    {
      "cell_type": "code",
      "source": [
        "print(b2)"
      ],
      "metadata": {
        "colab": {
          "base_uri": "https://localhost:8080/"
        },
        "id": "RU7CieWOC4nS",
        "outputId": "0ffb0754-16a5-48fd-8a11-2846be675686"
      },
      "execution_count": null,
      "outputs": [
        {
          "output_type": "stream",
          "name": "stdout",
          "text": [
            "[[5 6]\n",
            " [7 8]\n",
            " [1 3]]\n"
          ]
        }
      ]
    }
  ]
}